{
 "cells": [
  {
   "cell_type": "code",
   "execution_count": 1,
   "id": "1ed0de55-5e4f-419c-a7a8-249153d67165",
   "metadata": {},
   "outputs": [],
   "source": [
    "%load_ext autoreload\n",
    "%autoreload 2"
   ]
  },
  {
   "cell_type": "markdown",
   "id": "1d21f7fd-01fb-4e75-88ac-b93e4a41bc42",
   "metadata": {},
   "source": [
    "# Lowfat to TF\n",
    "\n",
    "We use the machinery of Text-Fabric combined with some custom code to convert\n",
    "the lowfat XML of the Greek New Testament into TF."
   ]
  },
  {
   "cell_type": "markdown",
   "id": "c98ead18-44f7-4a3a-a069-8c4129ad3731",
   "metadata": {},
   "source": [
    "# Set up\n",
    "\n",
    "We gather all prerequisites."
   ]
  },
  {
   "cell_type": "code",
   "execution_count": 2,
   "id": "b2b6e279-7009-42f5-a9cb-a0a8b2f9ecac",
   "metadata": {},
   "outputs": [],
   "source": [
    "from tf.convert.xml import XML\n",
    "from lowfat import convertTaskCustom"
   ]
  },
  {
   "cell_type": "markdown",
   "id": "940efa70-5f80-4b52-a7c8-5950e81a7dbe",
   "metadata": {},
   "source": [
    "The custom code is in `lowfat.py`, here in this directory.\n",
    "\n",
    "It consists of two functions that replace default functions in\n",
    "[xmlCustom](https://annotation.github.io/text-fabric/tf/convert/xmlCustom.html),\n",
    "which is part of TF.\n",
    "\n",
    "So you only have to focus on the bits that actually touch the lowfat XML.\n",
    "\n",
    "We pass the function `convertCustomTask()`, defined in `lowfat.py`, to the XML converter."
   ]
  },
  {
   "cell_type": "code",
   "execution_count": 3,
   "id": "005dbda2-08e1-4082-a871-48045d691c00",
   "metadata": {},
   "outputs": [
    {
     "name": "stdout",
     "output_type": "stream",
     "text": [
      "Working in repository ETCBC/nestle1904 in backend github\n",
      "XML data version is 2022-11-01 (most recent)\n",
      "TF data version is 0.1.1 (explicit exising)\n"
     ]
    }
   ],
   "source": [
    "X = XML(convertTaskCustom=convertTaskCustom, verbose=1, tf=\"0.1.1\")"
   ]
  },
  {
   "cell_type": "markdown",
   "id": "97d1cd2b-cdec-4f43-9636-1941c84269c3",
   "metadata": {},
   "source": [
    "Now we can run tasks."
   ]
  },
  {
   "cell_type": "markdown",
   "id": "fce420b6-456d-4ce0-b812-3a5eb07e7d0f",
   "metadata": {},
   "source": [
    "# Check\n",
    "\n",
    "First we check the input:"
   ]
  },
  {
   "cell_type": "code",
   "execution_count": 4,
   "id": "b1437daf-0091-4b02-b33a-beb976b307ee",
   "metadata": {},
   "outputs": [
    {
     "name": "stdout",
     "output_type": "stream",
     "text": [
      "XML to TF checking: ~/github/ETCBC/nestle1904/xml/2022-11-01 => ~/github/ETCBC/nestle1904/report/2022-11-01\n",
      "Start folder gnt:\n",
      "  27 27-revelation.xml                                 \n",
      "End   folder gnt\n",
      "\n",
      "71218 info line(s) written to ~/github/ETCBC/nestle1904/report/2022-11-01/elements.txt\n",
      "0 error(s) in 0 file(s) written to ~/github/ETCBC/nestle1904/report/2022-11-01/errors.txt\n",
      "7 tags of which 0 with multiple namespaces written to ~/github/ETCBC/nestle1904/report/2022-11-01/namespaces.txt\n"
     ]
    },
    {
     "data": {
      "text/plain": [
       "True"
      ]
     },
     "execution_count": 4,
     "metadata": {},
     "output_type": "execute_result"
    }
   ],
   "source": [
    "X.task(check=True)"
   ]
  },
  {
   "cell_type": "markdown",
   "id": "58fdfc1b-0514-440c-9917-1ac87b111f97",
   "metadata": {},
   "source": [
    "# Convert\n",
    "\n",
    "Here we generate the actual TF data."
   ]
  },
  {
   "cell_type": "code",
   "execution_count": 5,
   "id": "804d4a3f-b8de-427c-a5b7-1fb97520cf62",
   "metadata": {},
   "outputs": [
    {
     "name": "stdout",
     "output_type": "stream",
     "text": [
      "XML to TF converting: ~/github/ETCBC/nestle1904/xml/2022-11-01 => ~/github/ETCBC/nestle1904/tf/0.1.1\n",
      "  0.00s Not all of the warp features otype and oslots are present in\n",
      "~/github/ETCBC/nestle1904/tf/0.1.1\n",
      "  0.00s Only the Feature and Edge APIs will be enabled\n",
      "  0.00s Warp feature \"otext\" not found. Working without Text-API\n",
      "\n",
      "  0.00s Importing data from walking through the source ...\n",
      "   |     0.00s Preparing metadata... \n",
      "   |     0.00s No structure nodes will be set up\n",
      "   |   SECTION   TYPES:    book, chapter, verse\n",
      "   |   SECTION   FEATURES: book_short, chapter, verse\n",
      "   |   STRUCTURE TYPES:    \n",
      "   |   STRUCTURE FEATURES: \n",
      "   |   TEXT      FEATURES:\n",
      "   |      |   text-orig-full       after, text\n",
      "   |     0.00s OK\n",
      "   |     0.00s Following director... \n",
      "  27 27-revelation.xml                                 \n",
      "source reading done\n",
      "   |     4.37s \"edge\" actions: 0\n",
      "   |     4.37s \"feature\" actions: 260889\n",
      "   |     4.37s \"node\" actions: 131121\n",
      "   |     4.37s \"resume\" actions: 0\n",
      "   |     4.37s \"slot\" actions: 137779\n",
      "   |     4.37s \"terminate\" actions: 131121\n",
      "   |         27 x \"book\" node \n",
      "   |        260 x \"chapter\" node \n",
      "   |          1 x \"error\" node \n",
      "   |       8011 x \"sentence\" node \n",
      "   |       7944 x \"verse\" node \n",
      "   |     137779 x \"w\" node  = slot type\n",
      "   |     114878 x \"wg\" node \n",
      "   |     268900 nodes of all types\n",
      "   |     4.38s OK\n",
      "   |     0.00s checking for nodes and edges ... \n",
      "   |     0.00s OK\n",
      "   |     0.00s checking (section) features ... \n",
      "   |     0.06s OK\n",
      "   |     0.00s reordering nodes ...\n",
      "   |     0.01s Sorting 27 nodes of type \"book\"\n",
      "   |     0.02s Sorting 260 nodes of type \"chapter\"\n",
      "   |     0.03s Sorting 1 nodes of type \"error\"\n",
      "   |     0.03s Sorting 8011 nodes of type \"sentence\"\n",
      "   |     0.04s Sorting 7944 nodes of type \"verse\"\n",
      "   |     0.06s Sorting 114878 nodes of type \"wg\"\n",
      "   |     0.40s Max node = 268900\n",
      "   |     0.40s OK\n",
      "   |     0.00s reassigning feature values ...\n",
      "   |      |     0.00s node feature \"Rule\" with 5558 nodes\n",
      "   |      |     0.00s node feature \"after\" with 137779 nodes\n",
      "   |      |     0.03s node feature \"appositioncontainer\" with 1908 nodes\n",
      "   |      |     0.03s node feature \"articular\" with 28772 nodes\n",
      "   |      |     0.04s node feature \"book\" with 137779 nodes\n",
      "   |      |     0.06s node feature \"book_num\" with 27 nodes\n",
      "   |      |     0.06s node feature \"book_short\" with 27 nodes\n",
      "   |      |     0.06s node feature \"case\" with 79518 nodes\n",
      "   |      |     0.07s node feature \"chapter\" with 138039 nodes\n",
      "   |      |     0.09s node feature \"class\" with 210567 nodes\n",
      "   |      |     0.12s node feature \"clauseType\" with 5296 nodes\n",
      "   |      |     0.13s node feature \"cltype\" with 2843 nodes\n",
      "   |      |     0.13s node feature \"degree\" with 513 nodes\n",
      "   |      |     0.13s node feature \"discontinuous\" with 6034 nodes\n",
      "   |      |     0.13s node feature \"domain\" with 126879 nodes\n",
      "   |      |     0.15s node feature \"frame\" with 25493 nodes\n",
      "   |      |     0.16s node feature \"gender\" with 73975 nodes\n",
      "   |      |     0.17s node feature \"gloss\" with 137779 nodes\n",
      "   |      |     0.19s node feature \"id\" with 137779 nodes\n",
      "   |      |     0.21s node feature \"junction\" with 17921 nodes\n",
      "   |      |     0.21s node feature \"lang\" with 27 nodes\n",
      "   |      |     0.22s node feature \"lemma\" with 137779 nodes\n",
      "   |      |     0.23s node feature \"ln\" with 126879 nodes\n",
      "   |      |     0.25s node feature \"mood\" with 28357 nodes\n",
      "   |      |     0.26s node feature \"morph\" with 137779 nodes\n",
      "   |      |     0.28s node feature \"nodeId\" with 5558 nodes\n",
      "   |      |     0.28s node feature \"normalized\" with 137779 nodes\n",
      "   |      |     0.30s node feature \"note\" with 1 node\n",
      "   |      |     0.30s node feature \"number\" with 98937 nodes\n",
      "   |      |     0.32s node feature \"person\" with 19419 nodes\n",
      "   |      |     0.32s node feature \"ref\" with 137779 nodes\n",
      "   |      |     0.35s node feature \"referent\" with 14471 nodes\n",
      "   |      |     0.35s node feature \"role\" with 84218 nodes\n",
      "   |      |     0.37s node feature \"rule\" with 93234 nodes\n",
      "   |      |     0.39s node feature \"sent_num\" with 8011 nodes\n",
      "   |      |     0.40s node feature \"strong\" with 137779 nodes\n",
      "   |      |     0.42s node feature \"subjref\" with 16575 nodes\n",
      "   |      |     0.42s node feature \"tense\" with 28357 nodes\n",
      "   |      |     0.43s node feature \"text\" with 137779 nodes\n",
      "   |      |     0.45s node feature \"type\" with 113168 nodes\n",
      "   |      |     0.47s node feature \"verse\" with 145723 nodes\n",
      "   |      |     0.50s node feature \"voice\" with 28357 nodes\n",
      "   |      |     0.50s node feature \"word_num\" with 137779 nodes\n",
      "   |     0.56s OK\n",
      "  0.00s Exporting 44 node and 1 edge and 1 config features to ~/github/ETCBC/nestle1904/tf/0.1.1:\n",
      "  0.00s VALIDATING oslots feature\n",
      "  0.01s VALIDATING oslots feature\n",
      "  0.01s maxSlot=     137779\n",
      "  0.01s maxNode=     268900\n",
      "  0.02s OK: oslots is valid\n",
      "   |     0.00s T Rule                 to ~/github/ETCBC/nestle1904/tf/0.1.1\n",
      "   |     0.05s T after                to ~/github/ETCBC/nestle1904/tf/0.1.1\n",
      "   |     0.00s T appositioncontainer  to ~/github/ETCBC/nestle1904/tf/0.1.1\n",
      "   |     0.01s T articular            to ~/github/ETCBC/nestle1904/tf/0.1.1\n",
      "   |     0.05s T book                 to ~/github/ETCBC/nestle1904/tf/0.1.1\n",
      "   |     0.00s T book_num             to ~/github/ETCBC/nestle1904/tf/0.1.1\n",
      "   |     0.00s T book_short           to ~/github/ETCBC/nestle1904/tf/0.1.1\n",
      "   |     0.04s T case                 to ~/github/ETCBC/nestle1904/tf/0.1.1\n",
      "   |     0.05s T chapter              to ~/github/ETCBC/nestle1904/tf/0.1.1\n",
      "   |     0.08s T class                to ~/github/ETCBC/nestle1904/tf/0.1.1\n",
      "   |     0.00s T clauseType           to ~/github/ETCBC/nestle1904/tf/0.1.1\n",
      "   |     0.00s T cltype               to ~/github/ETCBC/nestle1904/tf/0.1.1\n",
      "   |     0.00s T degree               to ~/github/ETCBC/nestle1904/tf/0.1.1\n",
      "   |     0.00s T discontinuous        to ~/github/ETCBC/nestle1904/tf/0.1.1\n",
      "   |     0.05s T domain               to ~/github/ETCBC/nestle1904/tf/0.1.1\n",
      "   |     0.01s T frame                to ~/github/ETCBC/nestle1904/tf/0.1.1\n",
      "   |     0.03s T gender               to ~/github/ETCBC/nestle1904/tf/0.1.1\n",
      "   |     0.05s T gloss                to ~/github/ETCBC/nestle1904/tf/0.1.1\n",
      "   |     0.05s T id                   to ~/github/ETCBC/nestle1904/tf/0.1.1\n",
      "   |     0.01s T junction             to ~/github/ETCBC/nestle1904/tf/0.1.1\n",
      "   |     0.00s T lang                 to ~/github/ETCBC/nestle1904/tf/0.1.1\n",
      "   |     0.06s T lemma                to ~/github/ETCBC/nestle1904/tf/0.1.1\n",
      "   |     0.05s T ln                   to ~/github/ETCBC/nestle1904/tf/0.1.1\n",
      "   |     0.01s T mood                 to ~/github/ETCBC/nestle1904/tf/0.1.1\n",
      "   |     0.05s T morph                to ~/github/ETCBC/nestle1904/tf/0.1.1\n",
      "   |     0.00s T nodeId               to ~/github/ETCBC/nestle1904/tf/0.1.1\n",
      "   |     0.06s T normalized           to ~/github/ETCBC/nestle1904/tf/0.1.1\n",
      "   |     0.00s T note                 to ~/github/ETCBC/nestle1904/tf/0.1.1\n",
      "   |     0.04s T number               to ~/github/ETCBC/nestle1904/tf/0.1.1\n",
      "   |     0.02s T otype                to ~/github/ETCBC/nestle1904/tf/0.1.1\n",
      "   |     0.01s T person               to ~/github/ETCBC/nestle1904/tf/0.1.1\n",
      "   |     0.05s T ref                  to ~/github/ETCBC/nestle1904/tf/0.1.1\n",
      "   |     0.01s T referent             to ~/github/ETCBC/nestle1904/tf/0.1.1\n",
      "   |     0.04s T role                 to ~/github/ETCBC/nestle1904/tf/0.1.1\n",
      "   |     0.04s T rule                 to ~/github/ETCBC/nestle1904/tf/0.1.1\n",
      "   |     0.00s T sent_num             to ~/github/ETCBC/nestle1904/tf/0.1.1\n",
      "   |     0.05s T strong               to ~/github/ETCBC/nestle1904/tf/0.1.1\n",
      "   |     0.01s T subjref              to ~/github/ETCBC/nestle1904/tf/0.1.1\n",
      "   |     0.01s T tense                to ~/github/ETCBC/nestle1904/tf/0.1.1\n",
      "   |     0.06s T text                 to ~/github/ETCBC/nestle1904/tf/0.1.1\n",
      "   |     0.05s T type                 to ~/github/ETCBC/nestle1904/tf/0.1.1\n",
      "   |     0.05s T verse                to ~/github/ETCBC/nestle1904/tf/0.1.1\n",
      "   |     0.01s T voice                to ~/github/ETCBC/nestle1904/tf/0.1.1\n",
      "   |     0.05s T word_num             to ~/github/ETCBC/nestle1904/tf/0.1.1\n",
      "   |     0.16s T oslots               to ~/github/ETCBC/nestle1904/tf/0.1.1\n",
      "   |     0.00s M otext                to ~/github/ETCBC/nestle1904/tf/0.1.1\n",
      "  1.43s Exported 44 node features and 1 edge features and 1 config features to ~/github/ETCBC/nestle1904/tf/0.1.1\n"
     ]
    },
    {
     "data": {
      "text/plain": [
       "True"
      ]
     },
     "execution_count": 5,
     "metadata": {},
     "output_type": "execute_result"
    }
   ],
   "source": [
    "X.task(convert=True)"
   ]
  },
  {
   "cell_type": "markdown",
   "id": "64f1fbb4-4e6c-4ad0-884a-cb00f5b6eacd",
   "metadata": {},
   "source": [
    "# Load\n",
    "\n",
    "The best check to see that the TF is valid is to load it."
   ]
  },
  {
   "cell_type": "code",
   "execution_count": 6,
   "id": "c226029b-f6d9-492f-ac7a-f37046059a19",
   "metadata": {},
   "outputs": [
    {
     "name": "stdout",
     "output_type": "stream",
     "text": [
      "   |     0.13s T otype                from ~/github/ETCBC/nestle1904/tf/0.1.1\n",
      "   |     1.42s T oslots               from ~/github/ETCBC/nestle1904/tf/0.1.1\n",
      "   |     0.34s T text                 from ~/github/ETCBC/nestle1904/tf/0.1.1\n",
      "   |     0.24s T chapter              from ~/github/ETCBC/nestle1904/tf/0.1.1\n",
      "   |     0.00s T book_short           from ~/github/ETCBC/nestle1904/tf/0.1.1\n",
      "   |     0.27s T after                from ~/github/ETCBC/nestle1904/tf/0.1.1\n",
      "   |     0.25s T verse                from ~/github/ETCBC/nestle1904/tf/0.1.1\n",
      "   |      |     0.03s C __levels__           from otype, oslots, otext\n",
      "   |      |     1.15s C __order__            from otype, oslots, __levels__\n",
      "   |      |     0.05s C __rank__             from otype, __order__\n",
      "   |      |     2.26s C __levUp__            from otype, oslots, __rank__\n",
      "   |      |     1.27s C __levDown__          from otype, __levUp__, __rank__\n",
      "   |      |     0.04s C __characters__       from otext\n",
      "   |      |     0.58s C __boundary__         from otype, oslots, __rank__\n",
      "   |      |     0.02s C __sections__         from otype, oslots, otext, __levUp__, __levels__, book_short, chapter, verse\n",
      "   |      |     0.21s T Rule                 from ~/github/ETCBC/nestle1904/tf/0.1.1\n",
      "   |      |     0.00s T appositioncontainer  from ~/github/ETCBC/nestle1904/tf/0.1.1\n",
      "   |      |     0.07s T articular            from ~/github/ETCBC/nestle1904/tf/0.1.1\n",
      "   |      |     0.28s T book                 from ~/github/ETCBC/nestle1904/tf/0.1.1\n",
      "   |      |     0.00s T book_num             from ~/github/ETCBC/nestle1904/tf/0.1.1\n",
      "   |      |     0.17s T case                 from ~/github/ETCBC/nestle1904/tf/0.1.1\n",
      "   |      |     0.44s T class                from ~/github/ETCBC/nestle1904/tf/0.1.1\n",
      "   |      |     0.01s T clauseType           from ~/github/ETCBC/nestle1904/tf/0.1.1\n",
      "   |      |     0.01s T cltype               from ~/github/ETCBC/nestle1904/tf/0.1.1\n",
      "   |      |     0.00s T degree               from ~/github/ETCBC/nestle1904/tf/0.1.1\n",
      "   |      |     0.02s T discontinuous        from ~/github/ETCBC/nestle1904/tf/0.1.1\n",
      "   |      |     0.27s T domain               from ~/github/ETCBC/nestle1904/tf/0.1.1\n",
      "   |      |     0.08s T frame                from ~/github/ETCBC/nestle1904/tf/0.1.1\n",
      "   |      |     0.16s T gender               from ~/github/ETCBC/nestle1904/tf/0.1.1\n",
      "   |      |     0.33s T gloss                from ~/github/ETCBC/nestle1904/tf/0.1.1\n",
      "   |      |     0.36s T id                   from ~/github/ETCBC/nestle1904/tf/0.1.1\n",
      "   |      |     0.04s T junction             from ~/github/ETCBC/nestle1904/tf/0.1.1\n",
      "   |      |     0.00s T lang                 from ~/github/ETCBC/nestle1904/tf/0.1.1\n",
      "   |      |     0.31s T lemma                from ~/github/ETCBC/nestle1904/tf/0.1.1\n",
      "   |      |     0.28s T ln                   from ~/github/ETCBC/nestle1904/tf/0.1.1\n",
      "   |      |     0.07s T mood                 from ~/github/ETCBC/nestle1904/tf/0.1.1\n",
      "   |      |     0.28s T morph                from ~/github/ETCBC/nestle1904/tf/0.1.1\n",
      "   |      |     0.01s T nodeId               from ~/github/ETCBC/nestle1904/tf/0.1.1\n",
      "   |      |     0.33s T normalized           from ~/github/ETCBC/nestle1904/tf/0.1.1\n",
      "   |      |     0.00s T note                 from ~/github/ETCBC/nestle1904/tf/0.1.1\n",
      "   |      |     0.21s T number               from ~/github/ETCBC/nestle1904/tf/0.1.1\n",
      "   |      |     0.05s T person               from ~/github/ETCBC/nestle1904/tf/0.1.1\n",
      "   |      |     0.37s T ref                  from ~/github/ETCBC/nestle1904/tf/0.1.1\n",
      "   |      |     0.04s T referent             from ~/github/ETCBC/nestle1904/tf/0.1.1\n",
      "   |      |     0.19s T role                 from ~/github/ETCBC/nestle1904/tf/0.1.1\n",
      "   |      |     0.02s T sent_num             from ~/github/ETCBC/nestle1904/tf/0.1.1\n",
      "   |      |     0.26s T strong               from ~/github/ETCBC/nestle1904/tf/0.1.1\n",
      "   |      |     0.05s T subjref              from ~/github/ETCBC/nestle1904/tf/0.1.1\n",
      "   |      |     0.07s T tense                from ~/github/ETCBC/nestle1904/tf/0.1.1\n",
      "   |      |     0.26s T type                 from ~/github/ETCBC/nestle1904/tf/0.1.1\n",
      "   |      |     0.07s T voice                from ~/github/ETCBC/nestle1904/tf/0.1.1\n",
      "   |      |     0.28s T word_num             from ~/github/ETCBC/nestle1904/tf/0.1.1\n",
      "max node = 268900\n"
     ]
    },
    {
     "data": {
      "text/plain": [
       "True"
      ]
     },
     "execution_count": 6,
     "metadata": {},
     "output_type": "execute_result"
    }
   ],
   "source": [
    "X.task(load=True)"
   ]
  },
  {
   "cell_type": "markdown",
   "id": "79f331e6-8b6b-4d27-8520-cbebffee97de",
   "metadata": {},
   "source": [
    "# App creation\n",
    "\n",
    "We create the config file that turns the dataset into a TF app."
   ]
  },
  {
   "cell_type": "code",
   "execution_count": 7,
   "id": "11a43b23-8992-4944-8ba9-8b6d1adec35a",
   "metadata": {},
   "outputs": [
    {
     "name": "stdout",
     "output_type": "stream",
     "text": [
      "App updating ...\n",
      "\t~/github/ETCBC/nestle1904/app/static/logo.png (already exists, not overwritten)\n",
      "\t~/github/ETCBC/nestle1904/app/static/display.css (no custom info, older orginal exists)\n",
      "\t~/github/ETCBC/nestle1904/app/config.yaml (generated with custom info)\n",
      "\t~/github/ETCBC/nestle1904/app/app.py (deleted)\n",
      "Done\n"
     ]
    },
    {
     "data": {
      "text/plain": [
       "True"
      ]
     },
     "execution_count": 7,
     "metadata": {},
     "output_type": "execute_result"
    }
   ],
   "source": [
    "X.task(app=True)"
   ]
  },
  {
   "cell_type": "markdown",
   "id": "146ba841-d6d0-4dcf-bf10-cbed990834a4",
   "metadata": {},
   "source": [
    "# Browse\n",
    "\n",
    "We are ready to browse the data.\n",
    "If you run this notebook, then the next cell will open a browser window with the TF-browser\n",
    "on the Greek New Testament."
   ]
  },
  {
   "cell_type": "code",
   "execution_count": 8,
   "id": "aac54750-9c69-43d3-8ccd-04f943dacfff",
   "metadata": {},
   "outputs": [
    {
     "name": "stdout",
     "output_type": "stream",
     "text": [
      "This is Text-Fabric 11.4.8\n",
      "Starting new kernel listening on 17116\n",
      "Loading data for ETCBC/nestle1904. Please wait ...\n",
      "Setting up TF kernel for ETCBC/nestle1904  \n",
      "**Locating corpus resources ...**\n",
      "Using app in ~/github/ETCBC/nestle1904/app:\n",
      "\trepo clone offline under ~/github (local github)\n",
      "Using data in ~/github/ETCBC/nestle1904/tf/0.1.1:\n",
      "\trepo clone offline under ~/github (local github)\n",
      "TF setup done.\n",
      "Starting new webserver listening on 27116\n"
     ]
    },
    {
     "name": "stderr",
     "output_type": "stream",
     "text": [
      "\u001b[31m\u001b[1mWARNING: This is a development server. Do not use it in a production deployment. Use a production WSGI server instead.\u001b[0m\n",
      " * Running on http://localhost:27116\n",
      "\u001b[33mPress CTRL+C to quit\u001b[0m\n"
     ]
    },
    {
     "name": "stdout",
     "output_type": "stream",
     "text": [
      "Opening ETCBC/nestle1904 in browser\n",
      "Press <Ctrl+C> to stop the TF browser\n"
     ]
    },
    {
     "name": "stderr",
     "output_type": "stream",
     "text": [
      "127.0.0.1 - - [08/May/2023 16:30:50] \"GET / HTTP/1.1\" 200 -\n",
      "127.0.0.1 - - [08/May/2023 16:30:50] \"\u001b[36mGET /server/static/base.css HTTP/1.1\u001b[0m\" 304 -\n",
      "127.0.0.1 - - [08/May/2023 16:30:50] \"\u001b[36mGET /server/static/display.css HTTP/1.1\u001b[0m\" 304 -\n",
      "127.0.0.1 - - [08/May/2023 16:30:50] \"\u001b[36mGET /server/static/index.css HTTP/1.1\u001b[0m\" 304 -\n",
      "127.0.0.1 - - [08/May/2023 16:30:50] \"\u001b[36mGET /server/static/fontawesome.css HTTP/1.1\u001b[0m\" 304 -\n",
      "127.0.0.1 - - [08/May/2023 16:30:50] \"\u001b[36mGET /server/static/highlight.css HTTP/1.1\u001b[0m\" 304 -\n",
      "127.0.0.1 - - [08/May/2023 16:30:50] \"\u001b[36mGET /server/static/fonts.css HTTP/1.1\u001b[0m\" 304 -\n",
      "127.0.0.1 - - [08/May/2023 16:30:50] \"\u001b[36mGET /server/static/tf3.0.js HTTP/1.1\u001b[0m\" 304 -\n",
      "127.0.0.1 - - [08/May/2023 16:30:50] \"\u001b[36mGET /server/static/jquery.js HTTP/1.1\u001b[0m\" 304 -\n",
      "127.0.0.1 - - [08/May/2023 16:30:50] \"\u001b[36mGET /server/static/fonts/fa-solid-900.woff2 HTTP/1.1\u001b[0m\" 304 -\n",
      "127.0.0.1 - - [08/May/2023 16:30:50] \"\u001b[36mGET /server/static/fonts/fa-regular-400.woff2 HTTP/1.1\u001b[0m\" 304 -\n",
      "127.0.0.1 - - [08/May/2023 16:30:50] \"\u001b[36mGET /server/static/icon.png HTTP/1.1\u001b[0m\" 304 -\n",
      "127.0.0.1 - - [08/May/2023 16:30:50] \"\u001b[36mGET /server/static/huc.png HTTP/1.1\u001b[0m\" 304 -\n",
      "127.0.0.1 - - [08/May/2023 16:30:50] \"\u001b[36mGET /data/static/logo.png HTTP/1.1\u001b[0m\" 304 -\n",
      "127.0.0.1 - - [08/May/2023 16:30:50] \"POST /passage HTTP/1.1\" 200 -\n"
     ]
    },
    {
     "name": "stdout",
     "output_type": "stream",
     "text": [
      "Kernel listening at port 17116\n",
      "\n",
      "TF web server has stopped\n",
      "TF kernel has stopped\n"
     ]
    },
    {
     "name": "stderr",
     "output_type": "stream",
     "text": [
      "keyboard interrupt!\n"
     ]
    },
    {
     "data": {
      "text/plain": [
       "True"
      ]
     },
     "execution_count": 8,
     "metadata": {},
     "output_type": "execute_result"
    }
   ],
   "source": [
    "X.task(browse=True)"
   ]
  },
  {
   "cell_type": "markdown",
   "id": "91609b51-1062-4efa-9791-1b136417f8c0",
   "metadata": {},
   "source": [
    "# Terminate\n",
    "\n",
    "You can stop the browser by pressing `i` twice."
   ]
  },
  {
   "cell_type": "code",
   "execution_count": null,
   "id": "06573edb-1562-4d07-8ac8-cb5e65e2a989",
   "metadata": {},
   "outputs": [],
   "source": []
  }
 ],
 "metadata": {
  "kernelspec": {
   "display_name": "Python 3 (ipykernel)",
   "language": "python",
   "name": "python3"
  },
  "language_info": {
   "codemirror_mode": {
    "name": "ipython",
    "version": 3
   },
   "file_extension": ".py",
   "mimetype": "text/x-python",
   "name": "python",
   "nbconvert_exporter": "python",
   "pygments_lexer": "ipython3",
   "version": "3.11.1"
  }
 },
 "nbformat": 4,
 "nbformat_minor": 5
}
